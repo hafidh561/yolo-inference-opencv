{
 "cells": [
  {
   "cell_type": "code",
   "execution_count": null,
   "metadata": {},
   "outputs": [],
   "source": [
    "from google.colab import drive\n",
    "drive.mount('/content/gdrive')"
   ]
  },
  {
   "cell_type": "code",
   "execution_count": null,
   "metadata": {},
   "outputs": [],
   "source": [
    "# Download darknet\n",
    "!rm -rf darknet\n",
    "!git clone https://github.com/AlexeyAB/darknet"
   ]
  },
  {
   "cell_type": "code",
   "execution_count": null,
   "metadata": {},
   "outputs": [],
   "source": [
    "# Set up Yolov4\n",
    "%cd darknet\n",
    "!sed -i 's/OPENCV=0/OPENCV=1/' Makefile\n",
    "!sed -i 's/GPU=0/GPU=1/' Makefile\n",
    "!sed -i 's/CUDNN=0/CUDNN=1/' Makefile\n",
    "!sed -i 's/CUDNN_HALF=0/CUDNN_HALF=1/' Makefile\n",
    "!make\n",
    "!rm yolov4.conv.137\n",
    "!wget https://github.com/AlexeyAB/darknet/releases/download/yolov4/yolov4.conv.137\n",
    "%cd .."
   ]
  },
  {
   "cell_type": "code",
   "execution_count": null,
   "metadata": {},
   "outputs": [],
   "source": [
    "# Download dataset\n",
    "!rm -f face_mask-dataset.zip\n",
    "!pip install gdown\n",
    "!gdown \"https://drive.google.com/uc?id=1axrmW5rPPS5bNrtBonQrKZDIC2Sii-S2\"\n",
    "!unzip face_mask-dataset.zip\n",
    "!rm -f face_mask-dataset.zip\n",
    "!gdown \"https://drive.google.com/uc?id=1Wo0s_hd9Lt3ixvPaaBZXOqGMuyleG1oG\""
   ]
  },
  {
   "cell_type": "code",
   "execution_count": null,
   "metadata": {},
   "outputs": [],
   "source": [
    "# Preprocess dataset\n",
    "!mv ./obj.data ./darknet/\n",
    "!mv ./yolov4-custom.cfg ./darknet/cfg\n",
    "!mv ./obj_train_data ./darknet/data/\n",
    "!mv ./obj_valid_data ./darknet/data/\n",
    "!mv ./obj.names ./darknet/data/\n",
    "!mv ./train.txt ./darknet/data/\n",
    "!mv ./valid.txt ./darknet/data/\n",
    "%cd darknet"
   ]
  },
  {
   "cell_type": "code",
   "execution_count": null,
   "metadata": {},
   "outputs": [],
   "source": [
    "# Train continue model\n",
    "# !./darknet detector train \\\n",
    "# ./obj.data \\\n",
    "# cfg/yolov4-custom.cfg \\\n",
    "# /content/gdrive/MyDrive/yolov4-custom_last.weights \\\n",
    "# -dont_show\n",
    "\n",
    "# Train model\n",
    "!./darknet detector train \\\n",
    "./obj.data \\\n",
    "cfg/yolov4-custom.cfg \\\n",
    "./yolov4.conv.137 \\\n",
    "-dont_show"
   ]
  },
  {
   "cell_type": "code",
   "execution_count": null,
   "metadata": {},
   "outputs": [],
   "source": [
    "# Checking Mean Average Precision Each Weights\n",
    "print(\"============================\")\n",
    "print(\"FINAL WEIGHTS\")\n",
    "!./darknet detector map \\\n",
    "obj.data \\\n",
    "cfg/yolov4-custom.cfg \\\n",
    "/content/gdrive/MyDrive/yolov4-custom_final.weights\n",
    "print(\"============================\")\n",
    "print(\"LAST WEIGHTS\")\n",
    "!./darknet detector map \\\n",
    "obj.data \\\n",
    "cfg/yolov4-custom.cfg \\\n",
    "/content/gdrive/MyDrive/yolov4-custom_last.weights"
   ]
  }
 ],
 "metadata": {
  "language_info": {
   "name": "python"
  },
  "orig_nbformat": 4
 },
 "nbformat": 4,
 "nbformat_minor": 2
}
